{
  "nbformat": 4,
  "nbformat_minor": 0,
  "metadata": {
    "colab": {
      "name": "Copy of Part_II:gradient_descent.ipynb",
      "provenance": [],
      "collapsed_sections": [],
      "include_colab_link": true
    },
    "kernelspec": {
      "name": "python3",
      "display_name": "Python 3"
    },
    "language_info": {
      "name": "python"
    }
  },
  "cells": [
    {
      "cell_type": "markdown",
      "metadata": {
        "id": "view-in-github",
        "colab_type": "text"
      },
      "source": [
        "<a href=\"https://colab.research.google.com/github/SuperCoolCucumber/MachineLearning/blob/master/Copy_of_Part_II_gradient_descent.ipynb\" target=\"_parent\"><img src=\"https://colab.research.google.com/assets/colab-badge.svg\" alt=\"Open In Colab\"/></a>"
      ]
    },
    {
      "cell_type": "markdown",
      "source": [
        "# Градиентное обучение на примере линейной регрессии\n",
        "\n",
        "## Исходные данные\n",
        "\n",
        "Для этого занятия нам понадобится файл `non_linear.csv` который хранится в [директории курса на Google Drive](https://drive.google.com/file/d/1prHJVpHn0N5y1BqLQQ2Hpx5OP8uKIXjT/view?usp=sharing)\n",
        "\n",
        "Скопируйте файл к себе в родительскую директорию **hse_nlp_2021**"
      ],
      "metadata": {
        "id": "Z0Wp3AQGfDxy"
      }
    },
    {
      "cell_type": "code",
      "source": [
        "import logging\n",
        "import os\n",
        "import shutil \n",
        "\n",
        "import numpy as np\n",
        "from google.colab import drive\n",
        "\n",
        "RANDOM_SEED = 42\n",
        "np.random.seed(RANDOM_SEED)  # гарантируем воспроизводимость\n",
        "\n",
        "logging.basicConfig(format='%(asctime)s : %(levelname)s : %(message)s', level=logging.INFO)\n",
        "logger = logging.getLogger(__name__)\n",
        "logger.info('Инициализировали логгер')\n",
        "\n",
        "ROOT_DIR = '/content/drive' \n",
        "drive.mount(ROOT_DIR)\n",
        "logger.info('Подключили диск')\n",
        "\n",
        "root_data_dir = os.path.join(ROOT_DIR, 'MyDrive', 'hse_nlp_2021')\n",
        "if not os.path.exists(root_data_dir):\n",
        "  raise RuntimeError('Отсутствует директория с данными')\n",
        "else:\n",
        "  logger.info('Содержимое директории %s: %s', root_data_dir, os.listdir(root_data_dir))"
      ],
      "metadata": {
        "colab": {
          "base_uri": "https://localhost:8080/"
        },
        "id": "2XhdLAtqfEKG",
        "outputId": "85fac5b3-bf0e-479e-edf1-a096c6ea7ce6"
      },
      "execution_count": null,
      "outputs": [
        {
          "output_type": "stream",
          "name": "stderr",
          "text": [
            "2022-01-30 18:27:37,126 : INFO : Инициализировали логгер\n",
            "2022-01-30 18:27:58,436 : INFO : Подключили диск\n",
            "2022-01-30 18:27:58,453 : INFO : Содержимое директории /content/drive/MyDrive/hse_nlp_2021: ['reuters.zip', '1000k_memes_ocr.tar.gz', 'insurance.csv', 'nyt-ingredients-snapshot-2015.csv', 'events.csv', 'non_linear.csv']\n"
          ]
        },
        {
          "output_type": "stream",
          "name": "stdout",
          "text": [
            "Mounted at /content/drive\n"
          ]
        }
      ]
    },
    {
      "cell_type": "markdown",
      "source": [
        "Прочитаем `non_linear.csv`"
      ],
      "metadata": {
        "id": "_nNQLgELvYCw"
      }
    },
    {
      "cell_type": "code",
      "source": [
        "import os\n",
        "\n",
        "import numpy as np\n",
        "import pandas as pd\n",
        "\n",
        "raw_data_file = os.path.join(root_data_dir, 'non_linear.csv')\n",
        "data = pd.read_csv(raw_data_file, sep=',')\n",
        "\n",
        "data = data[\n",
        "            (data.x_train > 1) & (data.x_train < 5)\n",
        "].copy()\n",
        "data.head()"
      ],
      "metadata": {
        "colab": {
          "base_uri": "https://localhost:8080/",
          "height": 224
        },
        "id": "Xo_PT1EFlosg",
        "outputId": "a9f5778a-db97-47f7-a24e-3fc0adbaadca"
      },
      "execution_count": null,
      "outputs": [
        {
          "output_type": "stream",
          "name": "stderr",
          "text": [
            "2022-01-30 18:28:03,584 : INFO : NumExpr defaulting to 2 threads.\n"
          ]
        },
        {
          "output_type": "execute_result",
          "data": {
            "text/html": [
              "\n",
              "  <div id=\"df-abf46be6-b992-4e4d-8cf1-d4e21d991ee8\">\n",
              "    <div class=\"colab-df-container\">\n",
              "      <div>\n",
              "<style scoped>\n",
              "    .dataframe tbody tr th:only-of-type {\n",
              "        vertical-align: middle;\n",
              "    }\n",
              "\n",
              "    .dataframe tbody tr th {\n",
              "        vertical-align: top;\n",
              "    }\n",
              "\n",
              "    .dataframe thead th {\n",
              "        text-align: right;\n",
              "    }\n",
              "</style>\n",
              "<table border=\"1\" class=\"dataframe\">\n",
              "  <thead>\n",
              "    <tr style=\"text-align: right;\">\n",
              "      <th></th>\n",
              "      <th>x_train</th>\n",
              "      <th>y_train</th>\n",
              "    </tr>\n",
              "  </thead>\n",
              "  <tbody>\n",
              "    <tr>\n",
              "      <th>5</th>\n",
              "      <td>1.182421</td>\n",
              "      <td>1.860341</td>\n",
              "    </tr>\n",
              "    <tr>\n",
              "      <th>6</th>\n",
              "      <td>1.251605</td>\n",
              "      <td>1.878928</td>\n",
              "    </tr>\n",
              "    <tr>\n",
              "      <th>7</th>\n",
              "      <td>1.270474</td>\n",
              "      <td>2.430015</td>\n",
              "    </tr>\n",
              "    <tr>\n",
              "      <th>8</th>\n",
              "      <td>1.402553</td>\n",
              "      <td>2.327856</td>\n",
              "    </tr>\n",
              "    <tr>\n",
              "      <th>9</th>\n",
              "      <td>1.427711</td>\n",
              "      <td>2.203649</td>\n",
              "    </tr>\n",
              "  </tbody>\n",
              "</table>\n",
              "</div>\n",
              "      <button class=\"colab-df-convert\" onclick=\"convertToInteractive('df-abf46be6-b992-4e4d-8cf1-d4e21d991ee8')\"\n",
              "              title=\"Convert this dataframe to an interactive table.\"\n",
              "              style=\"display:none;\">\n",
              "        \n",
              "  <svg xmlns=\"http://www.w3.org/2000/svg\" height=\"24px\"viewBox=\"0 0 24 24\"\n",
              "       width=\"24px\">\n",
              "    <path d=\"M0 0h24v24H0V0z\" fill=\"none\"/>\n",
              "    <path d=\"M18.56 5.44l.94 2.06.94-2.06 2.06-.94-2.06-.94-.94-2.06-.94 2.06-2.06.94zm-11 1L8.5 8.5l.94-2.06 2.06-.94-2.06-.94L8.5 2.5l-.94 2.06-2.06.94zm10 10l.94 2.06.94-2.06 2.06-.94-2.06-.94-.94-2.06-.94 2.06-2.06.94z\"/><path d=\"M17.41 7.96l-1.37-1.37c-.4-.4-.92-.59-1.43-.59-.52 0-1.04.2-1.43.59L10.3 9.45l-7.72 7.72c-.78.78-.78 2.05 0 2.83L4 21.41c.39.39.9.59 1.41.59.51 0 1.02-.2 1.41-.59l7.78-7.78 2.81-2.81c.8-.78.8-2.07 0-2.86zM5.41 20L4 18.59l7.72-7.72 1.47 1.35L5.41 20z\"/>\n",
              "  </svg>\n",
              "      </button>\n",
              "      \n",
              "  <style>\n",
              "    .colab-df-container {\n",
              "      display:flex;\n",
              "      flex-wrap:wrap;\n",
              "      gap: 12px;\n",
              "    }\n",
              "\n",
              "    .colab-df-convert {\n",
              "      background-color: #E8F0FE;\n",
              "      border: none;\n",
              "      border-radius: 50%;\n",
              "      cursor: pointer;\n",
              "      display: none;\n",
              "      fill: #1967D2;\n",
              "      height: 32px;\n",
              "      padding: 0 0 0 0;\n",
              "      width: 32px;\n",
              "    }\n",
              "\n",
              "    .colab-df-convert:hover {\n",
              "      background-color: #E2EBFA;\n",
              "      box-shadow: 0px 1px 2px rgba(60, 64, 67, 0.3), 0px 1px 3px 1px rgba(60, 64, 67, 0.15);\n",
              "      fill: #174EA6;\n",
              "    }\n",
              "\n",
              "    [theme=dark] .colab-df-convert {\n",
              "      background-color: #3B4455;\n",
              "      fill: #D2E3FC;\n",
              "    }\n",
              "\n",
              "    [theme=dark] .colab-df-convert:hover {\n",
              "      background-color: #434B5C;\n",
              "      box-shadow: 0px 1px 3px 1px rgba(0, 0, 0, 0.15);\n",
              "      filter: drop-shadow(0px 1px 2px rgba(0, 0, 0, 0.3));\n",
              "      fill: #FFFFFF;\n",
              "    }\n",
              "  </style>\n",
              "\n",
              "      <script>\n",
              "        const buttonEl =\n",
              "          document.querySelector('#df-abf46be6-b992-4e4d-8cf1-d4e21d991ee8 button.colab-df-convert');\n",
              "        buttonEl.style.display =\n",
              "          google.colab.kernel.accessAllowed ? 'block' : 'none';\n",
              "\n",
              "        async function convertToInteractive(key) {\n",
              "          const element = document.querySelector('#df-abf46be6-b992-4e4d-8cf1-d4e21d991ee8');\n",
              "          const dataTable =\n",
              "            await google.colab.kernel.invokeFunction('convertToInteractive',\n",
              "                                                     [key], {});\n",
              "          if (!dataTable) return;\n",
              "\n",
              "          const docLinkHtml = 'Like what you see? Visit the ' +\n",
              "            '<a target=\"_blank\" href=https://colab.research.google.com/notebooks/data_table.ipynb>data table notebook</a>'\n",
              "            + ' to learn more about interactive tables.';\n",
              "          element.innerHTML = '';\n",
              "          dataTable['output_type'] = 'display_data';\n",
              "          await google.colab.output.renderOutput(dataTable, element);\n",
              "          const docLink = document.createElement('div');\n",
              "          docLink.innerHTML = docLinkHtml;\n",
              "          element.appendChild(docLink);\n",
              "        }\n",
              "      </script>\n",
              "    </div>\n",
              "  </div>\n",
              "  "
            ],
            "text/plain": [
              "    x_train   y_train\n",
              "5  1.182421  1.860341\n",
              "6  1.251605  1.878928\n",
              "7  1.270474  2.430015\n",
              "8  1.402553  2.327856\n",
              "9  1.427711  2.203649"
            ]
          },
          "metadata": {},
          "execution_count": 2
        }
      ]
    },
    {
      "cell_type": "markdown",
      "source": [
        "Визуализируем данные"
      ],
      "metadata": {
        "id": "l7rxP1_Cvht7"
      }
    },
    {
      "cell_type": "code",
      "source": [
        "import matplotlib.pyplot as plt\n",
        "%matplotlib inline\n",
        "\n",
        "plt.scatter(\n",
        "    data.x_train, data.y_train,\n",
        "    s=40, c='g', marker='o', alpha=0.8\n",
        ")\n",
        "plt.show()"
      ],
      "metadata": {
        "colab": {
          "base_uri": "https://localhost:8080/",
          "height": 265
        },
        "id": "t1YNLriavgou",
        "outputId": "df033cb3-78ef-43aa-ef13-82017c7a8974"
      },
      "execution_count": null,
      "outputs": [
        {
          "output_type": "display_data",
          "data": {
            "image/png": "[encoded data removed]",
            "text/plain": [
              "<Figure size 432x288 with 1 Axes>"
            ]
          },
          "metadata": {
            "needs_background": "light"
          }
        }
      ]
    },
    {
      "cell_type": "markdown",
      "source": [
        "Создадим две отдельные переменные\n",
        "\n",
        "* $y$ для целевой переменной из столбца `y_train`. Удалим из исходного датафрейма с помощью `.drop()`\n",
        "* Все оставшиеся после удаления столбцы - это матрица объекты-признаки $X$\n",
        "\n",
        "Для матрицы объекты-признаки добавляем \"дефолтный\" признак из единиц."
      ],
      "metadata": {
        "id": "CoyqHUCEPeKT"
      }
    },
    {
      "cell_type": "code",
      "source": [
        "num_examlpes = data.shape[0]\n",
        "num_features = data.shape[0] - 1  # вычитаем единичку т.к. убрали столбец y\n",
        "X = np.zeros((num_examlpes, num_features + 1))  # размерность увеличилась на дефолтный столбец\n",
        "\n",
        "\n",
        "#-------- ВАШ КОД ТУТ --------------------\n",
        "y = data.y_train # целевая переменная\n",
        "X_df = data.drop('y_train', axis=1)\n",
        "X = np.hstack([np.ones(num_examlpes).reshape(-1, 1), X_df.values])\n",
        "\n",
        "#-----------------------------------------"
      ],
      "metadata": {
        "id": "2t7ZXPhBPcnK"
      },
      "execution_count": 12,
      "outputs": []
    },
    {
      "cell_type": "markdown",
      "source": [
        "Создаём отложенную выборку для валидации - см. предыдущий семинар"
      ],
      "metadata": {
        "id": "QA3w5X68b3tN"
      }
    },
    {
      "cell_type": "code",
      "source": [
        "from sklearn.model_selection import train_test_split\n",
        "\n",
        "X_train, X_valid, y_train, y_valid = train_test_split(X, y, test_size=0.2, random_state=RANDOM_SEED)"
      ],
      "metadata": {
        "id": "7X2_WHqrb3-D"
      },
      "execution_count": 13,
      "outputs": []
    },
    {
      "cell_type": "markdown",
      "source": [
        "### Аналитическое решение\n",
        "\n",
        "Для начала напишем код для аналитического вычисления коэффициентов линейной регрессии по формуле $\\overline{w} = \\left(X^TX\\right)^{-1}X^T\\overline{y}$\n"
      ],
      "metadata": {
        "id": "GZAjRY0ow4tt"
      }
    },
    {
      "cell_type": "code",
      "source": [
        "from numpy.linalg import inv\n",
        "import numpy as np\n",
        "\n",
        "# вычисляем к-ты линейной регрессии\n",
        "w_analytic = np.zeros(num_features)\n",
        "#-------- ВАШ КОД ТУТ -------------------\n",
        "\n",
        "inv_X_T_X = inv(X_train.T.dot(X_train))\n",
        "inv_X_T_X_dot_X = inv_X_T_X.dot(X_train.T)\n",
        "w_analytic = inv_X_T_X_dot_X.dot(y_train.values.reshape(-1, 1))\n",
        "\n",
        "#-----------------------------------------\n",
        "\n",
        "print(f'Аналитически определённые коэффициенты {w_analytic}')"
      ],
      "metadata": {
        "colab": {
          "base_uri": "https://localhost:8080/"
        },
        "id": "JIRf6h0XmnbC",
        "outputId": "b92a4f2e-dd8d-4fcd-d6f1-e436b4d66ad7"
      },
      "execution_count": 26,
      "outputs": [
        {
          "output_type": "stream",
          "name": "stdout",
          "text": [
            "Аналитически определённые коэффициенты [[ 2.92602711]\n",
            " [-0.66129539]]\n"
          ]
        }
      ]
    },
    {
      "cell_type": "markdown",
      "source": [
        "$$\n",
        "y = x_0*3.17 + x*(-0.69)\n",
        "$$"
      ],
      "metadata": {
        "id": "SnWsfBHb9XrW"
      }
    },
    {
      "cell_type": "markdown",
      "source": [
        "Плучите коэффициенты из класса `LinearRegression` - мы уже делали так на прошлом семинаре"
      ],
      "metadata": {
        "id": "Wu0YN9WjZOQz"
      }
    },
    {
      "cell_type": "code",
      "source": [
        "from sklearn.linear_model import LinearRegression\n",
        "#-------- ВАШ КОД ТУТ -------------------\n",
        "lr_simple = LinearRegression(fit_intercept=False)\n",
        "lr_simple.fit(X_train, y_train)\n",
        "\n",
        "#----------------------------------------"
      ],
      "metadata": {
        "colab": {
          "base_uri": "https://localhost:8080/"
        },
        "id": "X9FXb6uxZOg4",
        "outputId": "cec6a68d-bbbd-4a47-ec83-40c714d6c0b6"
      },
      "execution_count": 23,
      "outputs": [
        {
          "output_type": "execute_result",
          "data": {
            "text/plain": [
              "LinearRegression(fit_intercept=False)"
            ]
          },
          "metadata": {},
          "execution_count": 23
        }
      ]
    },
    {
      "cell_type": "code",
      "source": [
        "lr_simple.coef_"
      ],
      "metadata": {
        "colab": {
          "base_uri": "https://localhost:8080/"
        },
        "id": "h0eaMIkDh0C-",
        "outputId": "44997069-6571-44e9-cdba-fcc4707b1363"
      },
      "execution_count": 24,
      "outputs": [
        {
          "output_type": "execute_result",
          "data": {
            "text/plain": [
              "array([ 2.92602711, -0.66129539])"
            ]
          },
          "metadata": {},
          "execution_count": 24
        }
      ]
    },
    {
      "cell_type": "markdown",
      "source": [
        "## Градиентный спуск из sklearn\n",
        "\n",
        "Используем готовую реализацию и функцию [.fit_partial()](https://scikit-learn.org/0.15/modules/scaling_strategies.html#incremental-learning)\n",
        "\n",
        "Для градиентного спуска мы используем готовый класс [sklearn.linear_model.SGDRegressor](https://scikit-learn.org/stable/modules/generated/sklearn.linear_model.SGDRegressor.html). Класс принимает следующие параметры\n",
        "\n",
        "* `learning_rate='constant'` используем самую простую модификацию спуска из нескольких возможных (см. доументацию)\n",
        "* `eta0=0.009` - шаг градиентного спуска, в формуле мы его обозначали буквой $\\eta$\n",
        "* `fit_intercept=True` - чтобы обучить коэффициент при \"свободном члене\" $w_0$ линейной регрессии (см. лекцию)\n",
        "* `random_state=RANDOM_SEED` - этот параметр встречали ранее в этом модуле, он нужен для воспроизводимости вычислений.\n",
        "\n",
        "Псевдокод решения (нужно закодить самостоятельно, если возникнут сложности - подсмотреть в лекции):\n",
        "\n",
        "* инициализируем `w_current` рандомом, `weight_evolution` и `rmse_evolution` пустыми списками, и критерий остановки $\\varepsilon=0.0001$\n",
        "* задаём максимальное число шагов `800` и далее на каждом шаге\n",
        "  * вызываем `.partial_fit`\n",
        "  * `.coef_` содержит текущие веса - применяем [from scipy.spatial.distance.euclidean](https://docs.scipy.org/doc/scipy/reference/generated/scipy.spatial.distance.euclidean.html#scipy.spatial.distance.euclidean) и сверяем с критерием остановки. Если критерий не выполняется - обновляем rmse с помощью [sklearn.metrics.mean_squared_error](https://scikit-learn.org/stable/modules/generated/sklearn.metrics.mean_squared_error.html) на `y_valid` и предикт на `X_valid` и переназначаем `w_current` на атрибут `.coef_.copy()`\n",
        "\n",
        "Когда критерий остановки выполнился - визуализируем `rmse_evolution`, мы должны увидеть т.н. кривую обучения с помощью `.plot(range(step), rmse_evolution)`\n",
        "\n",
        "Новая библиотека в нашем арсенале  - scipy, изучите её документацию"
      ],
      "metadata": {
        "id": "sgAXuGzgcfcG"
      }
    },
    {
      "cell_type": "code",
      "source": [
        "y = data.y_train # целевая переменная\n",
        "X_df = data.drop('y_train', axis=1)\n",
        "\n",
        "X_train, X_valid, y_train, y_valid = train_test_split(X, y, test_size=0.2, random_state=RANDOM_SEED)"
      ],
      "metadata": {
        "id": "sGMdy0kkp4HV"
      },
      "execution_count": 28,
      "outputs": []
    },
    {
      "cell_type": "code",
      "source": [
        "from sklearn.linear_model import SGDRegressor\n",
        "from scipy.spatial.distance import euclidean\n",
        "from sklearn.metrics import mean_squared_error\n",
        "\n",
        "#-------- ВАШ КОД ТУТ -------------------\n",
        "sgd = SGDRegressor(\n",
        "    learning_rate='constant',\n",
        "    eta0=0.0009,\n",
        "    fit_intercept=True,\n",
        "    random_state=RANDOM_SEED\n",
        ")\n",
        "\n",
        "w_current = np.random.random(2)\n",
        "epsilon = 0.0001\n",
        "weight_evolution, rmse_evolution = [], []\n",
        "MAX_STEPS = 800\n",
        "\n",
        "for step in range(MAX_STEPS):\n",
        "  sgd.partial_fit(X_train, y_train)\n",
        "  weight_distance = euclidean(sgd.coef_, w_current)\n",
        "  if weight_distance < epsilon:\n",
        "    print('обучение закончилось')\n",
        "    break\n",
        "\n",
        "  y_valid_predicted = sgd.predict(X_valid)\n",
        "  rmse_current = mean_squared_error(y_valid, y_valid_predicted)\n",
        "  weight_evolution.append(weight_distance)\n",
        "  rmse_evolution.append(rmse_current)\n",
        "  w_current = sgd.coef_.copy()\n",
        "\n",
        "#----------------------------------------"
      ],
      "metadata": {
        "colab": {
          "base_uri": "https://localhost:8080/"
        },
        "id": "WD_RpbQjcjdP",
        "outputId": "7cd7b5c0-6f32-49b1-c09a-1dee6e41df0c"
      },
      "execution_count": 30,
      "outputs": [
        {
          "output_type": "stream",
          "name": "stdout",
          "text": [
            "обучение закончилось\n"
          ]
        }
      ]
    },
    {
      "cell_type": "code",
      "source": [
        "plt.plot(list(range(len(rmse_evolution))), rmse_evolution)"
      ],
      "metadata": {
        "colab": {
          "base_uri": "https://localhost:8080/",
          "height": 286
        },
        "id": "Coy40Ffbe_2b",
        "outputId": "39a3a024-8bab-451e-9f8a-0dfa06f119fc"
      },
      "execution_count": 31,
      "outputs": [
        {
          "output_type": "execute_result",
          "data": {
            "text/plain": [
              "[<matplotlib.lines.Line2D at 0x7f7d5f0c6490>]"
            ]
          },
          "metadata": {},
          "execution_count": 31
        },
        {
          "output_type": "display_data",
          "data": {
            "image/png": "[encoded data removed]",
            "text/plain": [
              "<Figure size 432x288 with 1 Axes>"
            ]
          },
          "metadata": {
            "needs_background": "light"
          }
        }
      ]
    },
    {
      "cell_type": "code",
      "source": [
        "plt.plot(list(range(len(weight_evolution))), weight_evolution)"
      ],
      "metadata": {
        "colab": {
          "base_uri": "https://localhost:8080/",
          "height": 282
        },
        "id": "l6op9GmBuX4Z",
        "outputId": "78fbb59e-9a70-4d34-f44d-0940b8620f0b"
      },
      "execution_count": 32,
      "outputs": [
        {
          "output_type": "execute_result",
          "data": {
            "text/plain": [
              "[<matplotlib.lines.Line2D at 0x7f7d5f034390>]"
            ]
          },
          "metadata": {},
          "execution_count": 32
        },
        {
          "output_type": "display_data",
          "data": {
            "image/png": "[encoded data removed]",
            "text/plain": [
              "<Figure size 432x288 with 1 Axes>"
            ]
          },
          "metadata": {
            "needs_background": "light"
          }
        }
      ]
    },
    {
      "cell_type": "markdown",
      "source": [
        "Визуализируем решение на графике"
      ],
      "metadata": {
        "id": "H4FbEsKOe_hi"
      }
    },
    {
      "cell_type": "code",
      "source": [
        "# x_linspace = np.linspace(data['x_train'].min(), data['x_train'].max(), num=100)\n",
        "\n",
        "# y_linspace = sgd.predict(x_linspace.reshape(-1, 1))\n",
        "\n",
        "# plt.plot(x_linspace, y_linspace)\n",
        "# plt.scatter(\n",
        "#      data.x_train, data.y_train,\n",
        "#      s=40, c='g', marker='o', alpha=0.8\n",
        "#  )\n",
        "\n",
        "# plt.show()"
      ],
      "metadata": {
        "id": "qPjN7I0WuqfV"
      },
      "execution_count": 45,
      "outputs": []
    },
    {
      "cell_type": "markdown",
      "source": [
        "Готово! Мы получили решение задачи линейной регрессии, обучив параметры линейной регресии небольшими \"шажками\". Мы не использовали сложных матричных вычислений - тем не менее получили линию регрессии, которая лежит в середине облака точек. Когда стоит использовать градиентный спуск в реальных задачах?\n",
        "\n",
        "* когда данных очень много - в этом случае компьютер может не справится с перемножением матриц\n",
        "* когда нужно контролировать точность обучения - остановить итерации можно в любой момент (не дожидаясь, пока дойдем до \"идеальных\" значений.\n",
        "\n",
        "Когда не стоит применять градиентный спуск? Когда данных мало - в этом случае лучше воспользоваться точным решением"
      ],
      "metadata": {
        "id": "5qohl7GmfcLD"
      }
    },
    {
      "cell_type": "markdown",
      "source": [
        "**Практическое задание** очевидно, что чем больше шаг градиентного спуска (параметр *eta0* класса *SGDRegressor*), тем быстрее мы придём к оптимальным значениям. Используя под выше, поиграйтесь с параметром *eta0* и добейтесь , чтобы градиентный спуск закончился быстрее, чем за 200 шагов.\n",
        "\n",
        "Сколько шагов у вас получилось? Какое качество *RMSE* у Вашего решения на валидационной выборке"
      ],
      "metadata": {
        "id": "UApF2WKHeq3z"
      }
    },
    {
      "cell_type": "code",
      "source": [
        "#-------- ВАШ КОД ТУТ -------------------\n",
        "\n",
        "\n",
        "\n",
        "\n",
        "\n",
        "\n",
        "#----------------------------------------"
      ],
      "metadata": {
        "id": "3X9HVuNUerDM"
      },
      "execution_count": null,
      "outputs": []
    },
    {
      "cell_type": "markdown",
      "source": [
        "## Реализация GD на python\n",
        "\n",
        "Формулы см. в лекции"
      ],
      "metadata": {
        "id": "tNrWHNTUe8Kt"
      }
    },
    {
      "cell_type": "code",
      "source": [
        "import numpy as np\n",
        "\n",
        "def gradient(X, y, w, alpha=0) -> np.array:\n",
        "    \"\"\"Вычисляем градиент в точке\"\"\"\n",
        "    # количество обучающих примеров в выборке\n",
        "    n = X.shape[0]\n",
        "    # считаем прогноз\n",
        "    y_hat = X.dot(w.T)\n",
        "    # вычисляем ошибку прогноза\n",
        "    error = y - y_hat\n",
        "    # дальше pointwise перемножение - умножаем каждую из координат на ошибку\n",
        "    pointwise_errors = np.multiply(X, error) + X\n",
        "    # вычисляем градиент и ошибку\n",
        "    grad = pointwise_errors.sum(axis=0)*(-1.0)*2.0 / n\n",
        "    return grad, error"
      ],
      "metadata": {
        "id": "xHX2RxBNe7Ei"
      },
      "execution_count": 36,
      "outputs": []
    },
    {
      "cell_type": "markdown",
      "source": [
        "Делаем шаг градиентного спуска"
      ],
      "metadata": {
        "id": "pd_ZB5TBjwhg"
      }
    },
    {
      "cell_type": "code",
      "source": [
        "from scipy.spatial import distance\n",
        "\n",
        "def eval_w_next(X, y, eta, w_current):\n",
        "    \"\"\"Делаем шаг градиентного спуска\"\"\"\n",
        "    # вычисляем градиент\n",
        "    grad, error = gradient(X, y, w_current)\n",
        "    # делаем шаг градиентного спуска\n",
        "    w_next = w_current - eta*grad\n",
        "    # проверяем условие сходимости\n",
        "    weight_evolution = distance.euclidean(w_current, w_next)\n",
        "    return (w_next, weight_evolution, grad)"
      ],
      "metadata": {
        "id": "IM40X0QPe1Yl"
      },
      "execution_count": 37,
      "outputs": []
    },
    {
      "cell_type": "markdown",
      "source": [
        "Повторяем шаги (1,2) до сходимости"
      ],
      "metadata": {
        "id": "W6-FWVBVlBZ4"
      }
    },
    {
      "cell_type": "code",
      "source": [
        "def gradient_descent(X: np.array, y: np.array, eta=0.01, epsilon=0.001) -> np.array:\n",
        "    m = X.shape[1] # количество фичей\n",
        "    # инициализируем рандомом веса\n",
        "    w = np.random.random(m).reshape(1, -1)\n",
        "    w_next, weight_evolution, grad = eval_w_next(X, y, eta, w)\n",
        "    step = 0\n",
        "    # повторяем до сходимости вектора весов\n",
        "    while weight_evolution > epsilon:\n",
        "        w = w_next\n",
        "        w_next, weight_evolution, grad = eval_w_next(X, y, eta, w)\n",
        "        step += 1\n",
        "        if step % 100 ==0:\n",
        "            logger.info(\"step %s |w-w_next|=%.5f, grad=%s\", step, weight_evolution, grad)\n",
        "    return w"
      ],
      "metadata": {
        "id": "vxuc9S74lB8_"
      },
      "execution_count": 38,
      "outputs": []
    },
    {
      "cell_type": "markdown",
      "source": [
        "Запускаем обучение"
      ],
      "metadata": {
        "id": "4KC41Nu-lRQM"
      }
    },
    {
      "cell_type": "code",
      "source": [
        "# трансформируем плоский массив X в вектор-столбец\n",
        "X = data['x_train'].values.reshape(-1, 1)\n",
        "n = X.shape[0]\n",
        "# добавляем тривиальный признак w_0, столбец из единиц. См. прошлый урок, почему так\n",
        "X = np.hstack([\n",
        "    np.ones(n).reshape(-1,1),\n",
        "    X\n",
        "])\n",
        "w = gradient_descent(\n",
        "    X,\n",
        "    data['y_train'].values.reshape(-1, 1),\n",
        "    eta=0.008\n",
        ")"
      ],
      "metadata": {
        "id": "06DCGLtBlRce",
        "colab": {
          "base_uri": "https://localhost:8080/"
        },
        "outputId": "b360cdb5-a06f-40b4-fcd3-208c55a6007a"
      },
      "execution_count": 39,
      "outputs": [
        {
          "output_type": "stream",
          "name": "stderr",
          "text": [
            "2022-01-30 20:50:31,890 : INFO : step 100 |w-w_next|=0.00623, grad=[-0.74794313  0.21606589]\n",
            "2022-01-30 20:50:31,897 : INFO : step 200 |w-w_next|=0.00513, grad=[-0.6155017  0.1778062]\n",
            "2022-01-30 20:50:31,907 : INFO : step 300 |w-w_next|=0.00422, grad=[-0.50651223  0.14632131]\n",
            "2022-01-30 20:50:31,919 : INFO : step 400 |w-w_next|=0.00347, grad=[-0.41682199  0.12041158]\n",
            "2022-01-30 20:50:31,931 : INFO : step 500 |w-w_next|=0.00286, grad=[-0.34301357  0.0990898 ]\n",
            "2022-01-30 20:50:31,940 : INFO : step 600 |w-w_next|=0.00235, grad=[-0.28227472  0.08154355]\n",
            "2022-01-30 20:50:31,951 : INFO : step 700 |w-w_next|=0.00193, grad=[-0.23229115  0.06710429]\n",
            "2022-01-30 20:50:31,960 : INFO : step 800 |w-w_next|=0.00159, grad=[-0.19115838  0.05522185]\n",
            "2022-01-30 20:50:31,969 : INFO : step 900 |w-w_next|=0.00131, grad=[-0.15730916  0.04544349]\n",
            "2022-01-30 20:50:31,983 : INFO : step 1000 |w-w_next|=0.00108, grad=[-0.12945377  0.03739662]\n"
          ]
        }
      ]
    },
    {
      "cell_type": "markdown",
      "source": [
        "У нас произошло несколько сотен итераций, на каждой итерации мы:\n",
        "* вычисляем вектор весов\n",
        "* смотрим расстояние между новым вектором весов и векторов весов с предыдущего шага\n",
        "* если изменения в векторе весов небольшие (скажем, четвёртый знак поcле запятой) - останавливаем итерации\n",
        "\n",
        "Когда вектор перестаёт меняться - говорят, что алгоритм \"сошёлся\" (имеется в виду сходимость к оптимальной точке) - это значит, что итерации можно останавливать."
      ],
      "metadata": {
        "id": "102VDJxOlaSn"
      }
    },
    {
      "cell_type": "code",
      "source": [
        "support = np.linspace(X.min(), X.max(), num=100)\n",
        "# делаем предикт - считаем предсказания модели в каждой точке обучающей выборке в виде y=X*w\n",
        "y_hat = np.hstack([\n",
        "    np.ones(support.size).reshape(-1, 1),\n",
        "    support.reshape(-1, 1)\n",
        "]).dot(w.T)"
      ],
      "metadata": {
        "id": "HWCXrJmila2v"
      },
      "execution_count": 40,
      "outputs": []
    },
    {
      "cell_type": "markdown",
      "source": [
        "визуализируем результаты"
      ],
      "metadata": {
        "id": "PghJGwPEllda"
      }
    },
    {
      "cell_type": "code",
      "source": [
        "# строим график\n",
        "plt.plot(support, y_hat, 'b--', alpha=0.5, label='manifold')\n",
        "plt.scatter(data['x_train'], data['y_train'], 40, 'g', 'o', alpha=0.8, label='data')\n",
        "plt.show()"
      ],
      "metadata": {
        "id": "c_bTZVbBld8D",
        "colab": {
          "base_uri": "https://localhost:8080/",
          "height": 265
        },
        "outputId": "71d2920c-0a8c-4132-fb2a-1752a548b6f1"
      },
      "execution_count": 41,
      "outputs": [
        {
          "output_type": "display_data",
          "data": {
            "image/png": "[encoded data removed]",
            "text/plain": [
              "<Figure size 432x288 with 1 Axes>"
            ]
          },
          "metadata": {
            "needs_background": "light"
          }
        }
      ]
    }
  ]
}